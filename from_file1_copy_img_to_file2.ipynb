{
 "cells": [
  {
   "cell_type": "code",
   "execution_count": 1,
   "metadata": {},
   "outputs": [],
   "source": [
    "import os\n",
    "import cv2"
   ]
  },
  {
   "cell_type": "code",
   "execution_count": 2,
   "metadata": {},
   "outputs": [],
   "source": [
    "path = 'C:\\\\Users\\\\Administrator\\\\Desktop\\\\m'\n",
    "file1 = 'D:\\Code\\zhouyi\\image'\n",
    "file2 = 'C:\\\\Users\\\\Administrator\\\\Desktop\\\\ReCheck'\n",
    "\n",
    "imgLists = os.listdir(path)\n"
   ]
  },
  {
   "cell_type": "code",
   "execution_count": 3,
   "metadata": {},
   "outputs": [
    {
     "name": "stdout",
     "output_type": "stream",
     "text": [
      "Copy finish!\n"
     ]
    }
   ],
   "source": [
    "for list in imgLists:\n",
    "    path1 = file1 + '\\\\' + list\n",
    "    path2 = file2 + '\\\\' + list\n",
    "    img = cv2.imread(path1,1)\n",
    "    if img is None:\n",
    "        print(list+'is NULL')\n",
    "    else:\n",
    "        cv2.imwrite(path2, img)\n",
    "print('Copy finish!')"
   ]
  }
 ],
 "metadata": {
  "kernelspec": {
   "display_name": "Python 3.7.13 ('yolov5')",
   "language": "python",
   "name": "python3"
  },
  "language_info": {
   "codemirror_mode": {
    "name": "ipython",
    "version": 3
   },
   "file_extension": ".py",
   "mimetype": "text/x-python",
   "name": "python",
   "nbconvert_exporter": "python",
   "pygments_lexer": "ipython3",
   "version": "3.7.13"
  },
  "orig_nbformat": 4,
  "vscode": {
   "interpreter": {
    "hash": "c2359879c2609e9a49c820ab814eac91f707e9de54ce4f058a9a01f1407263cb"
   }
  }
 },
 "nbformat": 4,
 "nbformat_minor": 2
}
