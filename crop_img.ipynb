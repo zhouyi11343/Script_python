{
 "cells": [
  {
   "cell_type": "code",
   "execution_count": 39,
   "metadata": {},
   "outputs": [],
   "source": [
    "import os\n",
    "import cv2 as cv\n",
    "from matplotlib import pyplot as plt\n",
    "\n",
    "# DSC05499-11.JPG\n",
    "# DSC05578-13.JPG\n",
    "# DSC05580-13.JPG\n",
    "# DSC05587-11.JPG\n",
    "# DSC05599-11.JPG\n",
    "# DSC05648-11.JPG\n",
    "# DSC05714-13.JPG\n",
    "\n",
    "path = 'E:\\\\zhouyi\\\\Fan\\\\crop images\\\\DSC05714-13_'\n",
    "img_path = 'E:\\\\zhouyi\\\\Fan\\\\images\\\\DSC05714-13.JPG'"
   ]
  },
  {
   "cell_type": "code",
   "execution_count": 49,
   "metadata": {},
   "outputs": [
    {
     "name": "stdout",
     "output_type": "stream",
     "text": [
      "1280\n",
      "1280\n",
      "1280\n",
      "1280\n",
      "1280\n",
      "1280\n",
      "1280\n",
      "1280\n",
      "1280\n",
      "1280\n",
      "1280\n",
      "1280\n",
      "1280\n",
      "1280\n",
      "1280\n",
      "1280\n"
     ]
    }
   ],
   "source": [
    "\n",
    "img = cv.imread(img_path)\n",
    "copy_img = img.copy()\n",
    "#p = (列， 行)\n",
    "cv.namedWindow('img',cv.WINDOW_NORMAL)\n",
    "\n",
    "x = 4828\n",
    "y = 4582\n",
    "\n",
    "x1 = 6108\n",
    "y1 = 5862\n",
    "\n",
    "num=55\n",
    "for i in range(8):\n",
    "    print(x1-x)\n",
    "    print(y1-y)\n",
    "    crop_img = copy_img[y:y1,x:x1]\n",
    "    cv.rectangle(img, (x,y), (x1,y1), (0,0,255), 3)\n",
    "    save_path = path + str(num) + '.jpg'\n",
    "    #print(save_path)\n",
    "    #cv.imwrite(save_path, crop_img)\n",
    "    cv.imshow('img',img)\n",
    "    cv.waitKey(10)\n",
    "    num+=1\n",
    "    x+=50\n",
    "    x1+=50\n",
    "    y+=50\n",
    "    y1+=50\n",
    "\n",
    "\n",
    "cv.destroyAllWindows()\n"
   ]
  }
 ],
 "metadata": {
  "kernelspec": {
   "display_name": "Python 3.7.13 ('yolov5')",
   "language": "python",
   "name": "python3"
  },
  "language_info": {
   "codemirror_mode": {
    "name": "ipython",
    "version": 3
   },
   "file_extension": ".py",
   "mimetype": "text/x-python",
   "name": "python",
   "nbconvert_exporter": "python",
   "pygments_lexer": "ipython3",
   "version": "3.7.13"
  },
  "orig_nbformat": 4,
  "vscode": {
   "interpreter": {
    "hash": "c2359879c2609e9a49c820ab814eac91f707e9de54ce4f058a9a01f1407263cb"
   }
  }
 },
 "nbformat": 4,
 "nbformat_minor": 2
}
