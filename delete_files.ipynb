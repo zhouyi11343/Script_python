{
 "cells": [
  {
   "cell_type": "code",
   "execution_count": null,
   "metadata": {},
   "outputs": [],
   "source": [
    "import os\n",
    "path = 'C:\\\\Users\\\\Administrator\\\\Desktop\\\\labels\\\\20220613'\n",
    "\n",
    "list_files = os.listdir(path)\n",
    "print(list_files)\n",
    "\n",
    "save_files= []\n",
    "\n",
    "for list_file in list_files:\n",
    "    filename, ext = os.path.splitext(list_file)\n",
    "    if ext == '.xml':\n",
    "        save_files.append(filename)\n",
    "\n",
    "for list_file in list_files:\n",
    "    filename, ext = os.path.splitext(list_file)\n",
    "    if ext == '.jpg' or ext == '.JPG':\n",
    "        if filename in save_files:\n",
    "            print(filename + ' is exit.') \n",
    "        else:\n",
    "            print(filename + ' is not exit.')\n",
    "            img_path = os.path.join(path, list_file)\n",
    "            os.remove(img_path)\n",
    "\n"
   ]
  }
 ],
 "metadata": {
  "kernelspec": {
   "display_name": "Python 3.7.13 ('yolov5')",
   "language": "python",
   "name": "python3"
  },
  "language_info": {
   "codemirror_mode": {
    "name": "ipython",
    "version": 3
   },
   "file_extension": ".py",
   "mimetype": "text/x-python",
   "name": "python",
   "nbconvert_exporter": "python",
   "pygments_lexer": "ipython3",
   "version": "3.7.13"
  },
  "orig_nbformat": 4,
  "vscode": {
   "interpreter": {
    "hash": "c2359879c2609e9a49c820ab814eac91f707e9de54ce4f058a9a01f1407263cb"
   }
  }
 },
 "nbformat": 4,
 "nbformat_minor": 2
}
