{
 "cells": [
  {
   "cell_type": "code",
   "execution_count": 1,
   "metadata": {},
   "outputs": [
    {
     "name": "stdout",
     "output_type": "stream",
     "text": [
      "remove sum = 136\n",
      "finish\n"
     ]
    }
   ],
   "source": [
    "import os.path\n",
    "import glob\n",
    "import xml.etree.ElementTree as ET\n",
    "import shutil\n",
    "\n",
    "path=r'C:\\\\Users\\\\Administrator\\\\Desktop\\\\labels\\\\20220613'\n",
    "\n",
    "xml_lists = os.listdir(path)\n",
    "\n",
    "file = open('C:\\\\Users\\\\Administrator\\\\Desktop\\\\test.txt', 'w')\n",
    "\n",
    "remove_sum = 0\n",
    "for xml_name in xml_lists:\n",
    "    file_name, ext = os.path.splitext(xml_name)\n",
    "    if ext == '.xml':\n",
    "        num = 0\n",
    "        xml_file = path + '\\\\' + xml_name\n",
    "        #返回解析树\n",
    "        tree=ET.parse(xml_file)\n",
    "        #获取根节点\n",
    "        root=tree.getroot()\n",
    "        #对所有目标进行解析\n",
    "        for member in root.findall('object'):\n",
    "            objectname=member.find('name').text\n",
    "            if objectname=='drop':\n",
    "                num += 1\n",
    "            elif objectname == 'stain':\n",
    "                num += 1\n",
    "            elif objectname == 'crack':\n",
    "                num += 1\n",
    "        if num == 0:\n",
    "            #pass\n",
    "            file.write(xml_name+'\\n')\n",
    "            os.remove(xml_file)\n",
    "            remove_sum += 1\n",
    "\n",
    "print('remove sum = ' + str(remove_sum))\n",
    "print(\"finish\")\n",
    "file.close()"
   ]
  }
 ],
 "metadata": {
  "kernelspec": {
   "display_name": "Python 3.8.5 ('base')",
   "language": "python",
   "name": "python3"
  },
  "language_info": {
   "codemirror_mode": {
    "name": "ipython",
    "version": 3
   },
   "file_extension": ".py",
   "mimetype": "text/x-python",
   "name": "python",
   "nbconvert_exporter": "python",
   "pygments_lexer": "ipython3",
   "version": "3.8.5"
  },
  "orig_nbformat": 4,
  "vscode": {
   "interpreter": {
    "hash": "e42634819b8c191a5d07eaf23810ff32516dd8d3875f28ec3e488928fbd3c187"
   }
  }
 },
 "nbformat": 4,
 "nbformat_minor": 2
}
