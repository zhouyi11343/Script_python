{
 "cells": [
  {
   "cell_type": "code",
   "execution_count": 1,
   "metadata": {},
   "outputs": [],
   "source": [
    "import os.path\n",
    "import glob\n",
    "import xml.etree.ElementTree as ET"
   ]
  },
  {
   "cell_type": "code",
   "execution_count": null,
   "metadata": {},
   "outputs": [],
   "source": [
    "path=r'C:\\\\Users\\\\Administrator\\\\Desktop\\\\数据集\\\\只有spot和stripe\\\\all'\n",
    "#path=r'C:/Users/Administrator/Desktop/Annotations/'\n",
    "\n",
    "for xml_file in glob.glob(path+'/*.xml'):\n",
    "    #返回解析树\n",
    "    tree=ET.parse(xml_file)\n",
    "    #获取根节点\n",
    "    root=tree.getroot()\n",
    "    #对所有目标进行解析\n",
    "    for member in root.findall('object'):\n",
    "        objectname=member.find('name').text\n",
    "        if objectname=='polygon':\n",
    "            print(objectname)\n",
    "            member.find('name').text=str('stripe')            \n",
    "            tree.write(xml_file)\n",
    "print(\"finish\")"
   ]
  },
  {
   "cell_type": "code",
   "execution_count": null,
   "metadata": {},
   "outputs": [],
   "source": [
    "path=r'C:\\\\Users\\\\Administrator\\\\Desktop\\\\数据集\\\\只有spot和stripe\\\\all'\n",
    "#path=r'C:/Users/Administrator/Desktop/Annotations/'\n",
    "\n",
    "for xml_file in glob.glob(path+'/*.xml'):\n",
    "    #返回解析树\n",
    "    tree=ET.parse(xml_file)\n",
    "    #获取根节点\n",
    "    root=tree.getroot()\n",
    "    #对所有目标进行解析\n",
    "    for member in root.findall('object'):\n",
    "        objectname=member.find('name').text\n",
    "        if objectname=='polygon':\n",
    "            print(objectname)\n",
    "            member.find('name').text=str('stripe')            \n",
    "            tree.write(xml_file)\n",
    "print(\"finish\")"
   ]
  },
  {
   "cell_type": "markdown",
   "metadata": {},
   "source": [
    "删除没有标注信息的xml文件"
   ]
  },
  {
   "cell_type": "code",
   "execution_count": 42,
   "metadata": {},
   "outputs": [
    {
     "name": "stdout",
     "output_type": "stream",
     "text": [
      "remove sum = 36\n",
      "finish\n"
     ]
    }
   ],
   "source": [
    "\n",
    "\n",
    "\n"
   ]
  },
  {
   "cell_type": "markdown",
   "metadata": {},
   "source": [
    "根据图片名称拷贝图片到另一个文件夹中"
   ]
  },
  {
   "cell_type": "code",
   "execution_count": 43,
   "metadata": {},
   "outputs": [
    {
     "name": "stdout",
     "output_type": "stream",
     "text": [
      "copy 142 images\n",
      "finish\n"
     ]
    }
   ],
   "source": [
    "import os\n",
    "import shutil\n",
    "\n",
    "xml_path = 'C:\\\\Users\\\\Administrator\\\\Desktop\\\\labels\\\\'\n",
    "img_path = 'C:\\\\Users\\\\Administrator\\\\Desktop\\\\picture\\\\'\n",
    "out_path = 'C:\\\\Users\\\\Administrator\\\\Desktop\\\\copy\\\\'\n",
    "xml_lists = os.listdir(xml_path)\n",
    "\n",
    "num = 0\n",
    "for xml_name in xml_lists:\n",
    "    name, _ = os.path.splitext(xml_name)\n",
    "    img_name = name + '.jpg'\n",
    "    full_img_path = img_path + img_name\n",
    "    full_img_out_path = out_path + img_name\n",
    "    shutil.copy(full_img_path, full_img_out_path)\n",
    "    num+=1\n",
    "\n",
    "print('copy ' + str(num) + ' images')\n",
    "print('finish')"
   ]
  }
 ],
 "metadata": {
  "kernelspec": {
   "display_name": "Python 3.7.13 ('yolov5')",
   "language": "python",
   "name": "python3"
  },
  "language_info": {
   "codemirror_mode": {
    "name": "ipython",
    "version": 3
   },
   "file_extension": ".py",
   "mimetype": "text/x-python",
   "name": "python",
   "nbconvert_exporter": "python",
   "pygments_lexer": "ipython3",
   "version": "3.7.13"
  },
  "vscode": {
   "interpreter": {
    "hash": "c2359879c2609e9a49c820ab814eac91f707e9de54ce4f058a9a01f1407263cb"
   }
  }
 },
 "nbformat": 4,
 "nbformat_minor": 4
}
