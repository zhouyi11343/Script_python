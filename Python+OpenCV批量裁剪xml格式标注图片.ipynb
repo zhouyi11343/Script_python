{
 "cells": [
  {
   "cell_type": "code",
   "execution_count": 1,
   "id": "cad4e589",
   "metadata": {},
   "outputs": [
    {
     "name": "stdout",
     "output_type": "stream",
     "text": [
      "裁剪完成！\n"
     ]
    }
   ],
   "source": [
    "import cv2\n",
    "import xml.etree.ElementTree as ET\n",
    "import os \n",
    "\n",
    "img_path = r'E:/zhouyi/DL/JPEGImages' #图片路径\n",
    "xml_path = r'E:/zhouyi/DL/Annotations' #标签路径\n",
    "obj_img_path = r'E:/zhouyi/DL/cut'   #目标裁剪图片存放路径\n",
    "\n",
    "for img_file in os.listdir(img_path):    #遍历图片文件夹\n",
    "    if img_file[-4:] in ['.bmp', '.jpg','.png']:    #判断文件是否为图片格式\n",
    "        img_filename = os.path.join(img_path, img_file)  #将图片路径与图片名进行拼接\n",
    "        img_cv = cv2.imread(img_filename)  #读取图片\n",
    "        \n",
    "        img_name = (os.path.splitext(img_file)[0])  #分割出图片名，如“000.png” 图片名为“000”\n",
    "        xml_name = xml_path + '\\\\' + '%s.xml'%img_name  #利用标签路径、图片名、xml后缀拼接出完整的标签路径名\n",
    "        \n",
    "        if os.path.exists(xml_name):  #判断与图片同名的标签是否存在，因为图片不一定每张都打标\n",
    "            root = ET.parse(xml_name).getroot() #利用ET读取xml文件\n",
    "            count = 0 #目标框个数统计，防止目标文件覆盖\n",
    "            for obj in root.iter('object'):  #遍历所有目标框\n",
    "                name = obj.find('name').text   #获取目标框名称，即label名\n",
    "            \n",
    "                xmlbox = obj.find('bndbox')   #找到框目标\n",
    "                x0 = xmlbox.find('xmin').text  #将框目标的四个顶点坐标取出\n",
    "                y0 = xmlbox.find('ymin').text\n",
    "                x1 = xmlbox.find('xmax').text\n",
    "                y1 = xmlbox.find('ymax').text\n",
    "                \n",
    "                obj_img = img_cv[int(y0):int(y1), int(x0):int(x1)]  #cv2裁剪出目标框中的图片\n",
    "                \n",
    "                cv2.imwrite(obj_img_path + '\\\\' + '%s_%s'%(img_name, count) + '.jpg', obj_img)  #保存裁剪图片\n",
    "                count += 1 #目标框统计值自增1\n",
    "                \n",
    "print(\"裁剪完成！\")\n"
   ]
  },
  {
   "cell_type": "code",
   "execution_count": null,
   "id": "87200891",
   "metadata": {},
   "outputs": [],
   "source": []
  }
 ],
 "metadata": {
  "kernelspec": {
   "display_name": "Python 3.7.13 ('yolov5')",
   "language": "python",
   "name": "python3"
  },
  "language_info": {
   "codemirror_mode": {
    "name": "ipython",
    "version": 3
   },
   "file_extension": ".py",
   "mimetype": "text/x-python",
   "name": "python",
   "nbconvert_exporter": "python",
   "pygments_lexer": "ipython3",
   "version": "3.7.13"
  },
  "vscode": {
   "interpreter": {
    "hash": "c2359879c2609e9a49c820ab814eac91f707e9de54ce4f058a9a01f1407263cb"
   }
  }
 },
 "nbformat": 4,
 "nbformat_minor": 5
}
