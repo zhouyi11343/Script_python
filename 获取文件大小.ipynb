{
 "cells": [
  {
   "cell_type": "markdown",
   "metadata": {},
   "source": [
    "获取文件大小，返回byte"
   ]
  },
  {
   "cell_type": "code",
   "execution_count": null,
   "metadata": {},
   "outputs": [],
   "source": [
    "import os\n",
    "\n",
    "\n",
    "file_path = 'C:/Users/Administrator/Desktop/segImg/1/'\n",
    "\n",
    "sum = 0\n",
    "listfiles = os.listdir(file_path)\n",
    "for list in listfiles:\n",
    "    path = file_path + list\n",
    "    #print(list)\n",
    "    file_size = os.path.getsize(path)\n",
    "    file_size = round(file_size/1024)\n",
    "    if file_size == 0:\n",
    "        print(list + '  ' +str(file_size) + \"kB\")\n",
    "\n"
   ]
  },
  {
   "cell_type": "markdown",
   "metadata": {},
   "source": [
    "获取文件夹大小：os.scandir()\n",
    "返回byte"
   ]
  },
  {
   "cell_type": "code",
   "execution_count": null,
   "metadata": {},
   "outputs": [],
   "source": [
    "import os\n",
    "from os.path import join, getsize\n",
    "\n",
    "file_path = 'C:/Users/Administrator/Desktop/segImg/1/'\n",
    "fileList = os.listdir(file_path)\n",
    "\n",
    "for list in fileList:\n",
    "    path = file_path + list\n",
    "    fsize = \n",
    "        \n",
    "\n",
    "    "
   ]
  }
 ],
 "metadata": {
  "kernelspec": {
   "display_name": "Python 3.7.13 ('yolov5')",
   "language": "python",
   "name": "python3"
  },
  "language_info": {
   "codemirror_mode": {
    "name": "ipython",
    "version": 3
   },
   "file_extension": ".py",
   "mimetype": "text/x-python",
   "name": "python",
   "nbconvert_exporter": "python",
   "pygments_lexer": "ipython3",
   "version": "3.7.13"
  },
  "orig_nbformat": 4,
  "vscode": {
   "interpreter": {
    "hash": "c2359879c2609e9a49c820ab814eac91f707e9de54ce4f058a9a01f1407263cb"
   }
  }
 },
 "nbformat": 4,
 "nbformat_minor": 2
}
