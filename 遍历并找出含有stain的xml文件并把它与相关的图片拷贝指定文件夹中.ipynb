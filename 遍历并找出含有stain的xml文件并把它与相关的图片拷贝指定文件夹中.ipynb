{
 "cells": [
  {
   "cell_type": "code",
   "execution_count": 2,
   "metadata": {},
   "outputs": [],
   "source": [
    "import os.path\n",
    "import glob\n",
    "import xml.etree.ElementTree as ET\n",
    "import shutil"
   ]
  },
  {
   "cell_type": "code",
   "execution_count": 3,
   "metadata": {},
   "outputs": [],
   "source": [
    "fileSourcePath = input(\"请输入xml源路径：\")\n",
    "imgSourcePath = input(\"请输入图片源路径\")\n",
    "fileNewPath = input(\"请输入新路径\")"
   ]
  },
  {
   "cell_type": "code",
   "execution_count": null,
   "metadata": {},
   "outputs": [],
   "source": [
    "\n",
    "sum = 0\n",
    "\n",
    "for xml_file in glob.glob(fileSourcePath + '/*.xml'):\n",
    "    #返回解析树\n",
    "    \n",
    "    index = xml_file.rfind(\"\\\\\")\n",
    "    filename = xml_file[index+1:]\n",
    "    imgname, ext = os.path.splitext(filename)\n",
    "    imgname = imgname+\".JPG\"\n",
    "\n",
    "    tree=ET.parse(xml_file)\n",
    "    #获取根节点\n",
    "    root=tree.getroot()\n",
    "    #对所有目标进行解析\n",
    "    for member in root.findall('object'):\n",
    "        objectname=member.find('name').text\n",
    "        if objectname=='stain':\n",
    "            sum += 1\n",
    "            shutil.copyfile(os.path.join(fileSourcePath, filename), os.path.join(fileNewPath, filename))\n",
    "            shutil.copyfile(os.path.join(imgSourcePath, imgname), os.path.join(fileNewPath, imgname))\n",
    "            #print(xml_file)\n",
    "            continue\n",
    "            \n",
    "print(\"sum:\", sum)            \n",
    "#print(\"finish\")"
   ]
  }
 ],
 "metadata": {
  "kernelspec": {
   "display_name": "Python 3.7.13 ('yolov5')",
   "language": "python",
   "name": "python3"
  },
  "language_info": {
   "codemirror_mode": {
    "name": "ipython",
    "version": 3
   },
   "file_extension": ".py",
   "mimetype": "text/x-python",
   "name": "python",
   "nbconvert_exporter": "python",
   "pygments_lexer": "ipython3",
   "version": "3.7.13"
  },
  "orig_nbformat": 4,
  "vscode": {
   "interpreter": {
    "hash": "c2359879c2609e9a49c820ab814eac91f707e9de54ce4f058a9a01f1407263cb"
   }
  }
 },
 "nbformat": 4,
 "nbformat_minor": 2
}
